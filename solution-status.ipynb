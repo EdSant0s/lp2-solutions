{
  "nbformat": 4,
  "nbformat_minor": 0,
  "metadata": {
    "colab": {
      "name": "Untitled0.ipynb",
      "provenance": [],
      "collapsed_sections": []
    },
    "kernelspec": {
      "name": "python3",
      "display_name": "Python 3"
    }
  },
  "cells": [
    {
      "cell_type": "code",
      "execution_count": 1,
      "metadata": {},
      "outputs": [],
      "source": [
        "import os\n",
        "import json\n",
        "import pandas as pd\n",
        "\n",
        "students = (\n",
        "  'ana.sara',\n",
        "  'anny.priscila',\n",
        "  'barbara.brenda',\n",
        "  'camilly.garcia',\n",
        "  'caue.santos',\n",
        "  'clara.cardoso',\n",
        "  'daniella.santos',\n",
        "  'edclaudio.santos',\n",
        "  'eduarda.sousa',\n",
        "  'enrique.sousa',\n",
        "  'fernanda.becker',\n",
        "  'gabriel.targino',\n",
        "  'gisele.silva',\n",
        "  'guilherme.lima',\n",
        "  'iago.vital',\n",
        "  'islene.lima',\n",
        "  'iury.kennedy',\n",
        "  'jean.carlos',\n",
        "  'jhonatha.emmanuel',\n",
        "  'kezia.denyze',\n",
        "  'lais.maria',\n",
        "  'lais.sette',\n",
        "  'larissa.silva',\n",
        "  'leticia.laurentino',\n",
        "  'maria.isabella',\n",
        "  'maria.melo',\n",
        "  'natalia.ellen',\n",
        "  'nicoly.almeida',\n",
        "  'rayanne.rodrigues',\n",
        "  'rebeca.silva',\n",
        "  'santos.costa',\n",
        "  'taw.ham',\n",
        "  'thamiris.savina',\n",
        "  'victor.reinaldo',\n",
        "  'vitoria.cristhyna'\n",
        ")\n",
        "\n",
        "categories = ('ecma', 'web')\n",
        "status = {}\n",
        "\n",
        "for student in students:\n",
        "  status[student] = {}\n",
        "  for category in categories:\n",
        "      problems = os.listdir(category)\n",
        "      for problem in problems:\n",
        "        if problem != '.gitkeep':\n",
        "          path = f'{category}/{problem}/{student}'\n",
        "          status[student][problem] = os.path.isdir(path)\n",
        "\n",
        "df = pd.DataFrame(status)"
      ]
    },
    {
      "cell_type": "code",
      "execution_count": 2,
      "metadata": {},
      "outputs": [
        {
          "data": {
            "text/plain": "rayanne.rodrigues     9\nvitoria.cristhyna     8\nsantos.costa          8\nnicoly.almeida        7\njhonatha.emmanuel     6\nedclaudio.santos      6\nenrique.sousa         6\nfernanda.becker       6\ngisele.silva          6\niago.vital            6\nvictor.reinaldo       6\njean.carlos           6\nthamiris.savina       6\nlarissa.silva         4\nanny.priscila         4\nclara.cardoso         4\nkezia.denyze          3\nbarbara.brenda        3\nmaria.isabella        3\nlais.sette            2\ncamilly.garcia        2\ncaue.santos           2\nrebeca.silva          2\ngabriel.targino       2\nguilherme.lima        2\nislene.lima           2\niury.kennedy          2\nana.sara              2\nnatalia.ellen         1\nlais.maria            1\ntaw.ham               0\neduarda.sousa         0\ndaniella.santos       0\nmaria.melo            0\nleticia.laurentino    0\ndtype: int64"
          },
          "execution_count": 2,
          "metadata": {},
          "output_type": "execute_result"
        }
      ],
      "source": [
        "df[df==True].count(axis=0).sort_values(ascending=False)"
      ]
    },
    {
      "cell_type": "code",
      "execution_count": 3,
      "metadata": {},
      "outputs": [
        {
          "data": {
            "text/plain": "function-calc               2\nfunction-factorial          2\nfunction-area-of-circle     5\nbasic-irrf                 13\nfunction-sum               15\nbasic-harmonic-series      15\nbasic-numbers-series       17\nbasic-bmi                  29\nbasic-hello                29\ndtype: int64"
          },
          "execution_count": 3,
          "metadata": {},
          "output_type": "execute_result"
        }
      ],
      "source": [
        "df[df==True].count(axis=1).sort_values(ascending=True)"
      ]
    },
    {
      "cell_type": "code",
      "execution_count": 4,
      "metadata": {},
      "outputs": [
        {
          "name": "stdout",
          "output_type": "stream",
          "text": "127\n"
        }
      ],
      "source": [
        "print(df[df==True].count().sum())"
      ]
    }
  ]
}